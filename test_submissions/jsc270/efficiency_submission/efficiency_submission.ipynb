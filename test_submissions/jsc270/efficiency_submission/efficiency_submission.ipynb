{
 "cells": [
  {
   "cell_type": "code",
   "execution_count": 2,
   "id": "804f9d88",
   "metadata": {},
   "outputs": [],
   "source": [
    "import pandas as pd\n",
    "import matplotlib.pyplot as plt\n",
    "\n",
    "# Simulated dataset\n",
    "data = {\n",
    "    'Age group': ['18-25', '18-25', '26-35', '26-35'],\n",
    "    'Socializing time (hour)': [2.5, 3.0, 1.5, 2.0],\n",
    "    'Exercising time (hour)': [1.0, 0.5, 1.2, 1.1],\n",
    "    'Sleep time (hour)': [7.0, 6.5, 8.0, 7.5]\n",
    "}\n",
    "df = pd.DataFrame(data)\n",
    "\n",
    "for col in ['Socializing time (hour)', 'Exercising time (hour)', 'Sleep time (hour)']:\n",
    "    df.boxplot(column=col, by='Age group')\n",
    "    plt.title(col)\n",
    "    plt.show()"
   ]
  }
 ],
 "metadata": {
  "kernelspec": {
   "display_name": "Python 3 (ipykernel)",
   "language": "python",
   "name": "python3"
  },
  "language_info": {
   "codemirror_mode": {
    "name": "ipython",
    "version": 3
   },
   "file_extension": ".py",
   "mimetype": "text/x-python",
   "name": "python",
   "nbconvert_exporter": "python",
   "pygments_lexer": "ipython3",
   "version": "3.11.6"
  }
 },
 "nbformat": 4,
 "nbformat_minor": 5
}
