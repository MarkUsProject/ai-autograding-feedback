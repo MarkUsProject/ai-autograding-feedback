{
 "cells": [
  {
   "cell_type": "code",
   "execution_count": 2,
   "id": "804f9d88",
   "metadata": {},
   "outputs": [],
   "source": [
    "import pandas as pd\n",
    "import numpy as np\n",
    "import matplotlib.pyplot as plt\n",
    "\n",
    "sb = pd.read_csv(\"superbowl_ads.csv\", encoding=\"ISO-8859-1\")\n",
    "view_counts = sb[\"view_count\"].dropna()\n",
    "counts, bins = np.histogram(view_counts, bins=50)\n",
    "plt.hist(bins[:-1], bins, weights=counts)\n",
    "plt.xlabel(\"View Count\")\n",
    "plt.show()"
   ]
  }
 ],
 "metadata": {
  "kernelspec": {
   "display_name": "Python 3 (ipykernel)",
   "language": "python",
   "name": "python3"
  },
  "language_info": {
   "codemirror_mode": {
    "name": "ipython",
    "version": 3
   },
   "file_extension": ".py",
   "mimetype": "text/x-python",
   "name": "python",
   "nbconvert_exporter": "python",
   "pygments_lexer": "ipython3",
   "version": "3.11.6"
  }
 },
 "nbformat": 4,
 "nbformat_minor": 5
}
