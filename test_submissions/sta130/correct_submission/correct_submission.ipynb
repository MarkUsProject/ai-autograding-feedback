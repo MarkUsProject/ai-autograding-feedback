{
 "cells": [
  {
   "cell_type": "code",
   "execution_count": 2,
   "id": "804f9d88",
   "metadata": {},
   "outputs": [],
   "source": [
    "import pandas as pd\n",
    "import plotly.express as px\n",
    "sba = pd.read_csv(\"superbowl_ads.csv\", encoding = \"ISO-8859-1\")\n",
    "# Create 50 bins histogram\n",
    "px.histogram(sba, x='view_count', nbins = 50)"
   ]
  }
 ],
 "metadata": {
  "kernelspec": {
   "display_name": "Python 3 (ipykernel)",
   "language": "python",
   "name": "python3"
  },
  "language_info": {
   "codemirror_mode": {
    "name": "ipython",
    "version": 3
   },
   "file_extension": ".py",
   "mimetype": "text/x-python",
   "name": "python",
   "nbconvert_exporter": "python",
   "pygments_lexer": "ipython3",
   "version": "3.11.6"
  }
 },
 "nbformat": 4,
 "nbformat_minor": 5
}
